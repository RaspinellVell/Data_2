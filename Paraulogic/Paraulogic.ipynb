{
 "cells": [
  {
   "cell_type": "code",
   "execution_count": 12,
   "metadata": {},
   "outputs": [],
   "source": [
    "import numpy as np\n",
    "import pandas as pd\n",
    "from unidecode import unidecode"
   ]
  },
  {
   "cell_type": "code",
   "execution_count": 20,
   "metadata": {},
   "outputs": [],
   "source": [
    "def read_to_list(path):\n",
    "    out_list = []\n",
    "    with open(path, 'r') as file:\n",
    "        for line in file:\n",
    "            out_list.append(line.rstrip())\n",
    "    return out_list\n",
    "\n",
    "def read_to_df(path):\n",
    "    out_list = read_to_list(path)\n",
    "    out_df = pd.DataFrame (out_list, columns=['strings'])\n",
    "    return out_df\n",
    "\n",
    "def clean_df(df_original):\n",
    "    df = df_original.copy()\n",
    "    df = df[df['strings'].str[0] != '#']\n",
    "    df[['words','rest']] = df.strings.str.split('=',expand=True)\n",
    "    df[['category', 'sources']] = df.rest.str.split(';fonts: ',expand=True)\n",
    "    # df['category'] = df['category'].str.split('categories: ').apply(lambda x: x[1] if len(x) > 1 else None)\n",
    "    df['category'] = df['category'].str.split('categories: ').apply(lambda x: None if x is None else (x[1] if len(x) > 1 else None))\n",
    "    df.sources = df.sources.str[0:-1]\n",
    "    df.drop(['strings','rest'],axis=1, inplace=True)\n",
    "    df['words_std'] = df.words.apply(lambda x: unidecode(x).lower())\n",
    "    return df\n"
   ]
  },
  {
   "cell_type": "code",
   "execution_count": 21,
   "metadata": {},
   "outputs": [],
   "source": [
    "path = './Data/noms-fdic.txt'\n",
    "noms_df = read_to_df(path)\n",
    "noms_df = clean_df(noms_df)\n",
    "\n",
    "path = './Data/adjectius-fdic.txt'\n",
    "adj_df = read_to_df(path)\n",
    "adj_df = clean_df(adj_df)"
   ]
  },
  {
   "cell_type": "code",
   "execution_count": 59,
   "metadata": {},
   "outputs": [
    {
     "data": {
      "text/plain": [
       "191         17-A\n",
       "192          17A\n",
       "193          4x4\n",
       "194           A3\n",
       "195           A4\n",
       "          ...   \n",
       "87150         ús\n",
       "87151    ústaixa\n",
       "87152       úter\n",
       "87153       úvea\n",
       "87154      úvula\n",
       "Name: words, Length: 86964, dtype: object"
      ]
     },
     "execution_count": 59,
     "metadata": {},
     "output_type": "execute_result"
    }
   ],
   "source": [
    "noms_df.words"
   ]
  },
  {
   "cell_type": "code",
   "execution_count": 61,
   "metadata": {},
   "outputs": [],
   "source": [
    "def find_words (df_words, main_letter, usable_letters, word_len, guess='', wordlist=[]):\n",
    "    df = df_words.copy()\n",
    "    df = df[df.words.str.contains(main_letter)]\n",
    "\n",
    "    for letter in usable_letters:\n",
    "        new_guess = guess + letter\n",
    "        print(new_guess)\n",
    "        if new_guess in list(df['words_std']):\n",
    "            wordlist.append(new_guess)\n",
    "        if len(new_guess) <= word_len:\n",
    "            wordlist = find_words (df_words, main_letter, usable_letters, word_len, new_guess, wordlist)\n",
    "    \n",
    "    return wordlist \n",
    "\n",
    "def contains_letters (word, letters):\n",
    "    for letter in word:\n",
    "        if letter not in letters:\n",
    "            return False\n",
    "    return True\n",
    "\n",
    "def find_words_fast (df_words, main_letter, usable_letters):\n",
    "    wordlist = []\n",
    "    df = df_words.copy()\n",
    "    df = df[df.words.str.contains(main_letter)]\n",
    "    for index, row in df.iterrows():\n",
    "        if contains_letters (row['words_std'], usable_letters):\n",
    "            wordlist.append(row['words'])\n",
    "    return wordlist"
   ]
  },
  {
   "cell_type": "code",
   "execution_count": 62,
   "metadata": {},
   "outputs": [],
   "source": [
    "main_letter = 'l'\n",
    "usable_letters = ['l','u','b','s','a','t','o']\n",
    "words_out_2 = find_words_fast (noms_df, main_letter, usable_letters)\n",
    "# words_out = find_words_fast (adj_df, main_letter, usable_letters)"
   ]
  },
  {
   "cell_type": "code",
   "execution_count": 63,
   "metadata": {},
   "outputs": [
    {
     "data": {
      "text/plain": [
       "array(['ababol', 'abatoll', 'absolta', 'ala', 'alba', 'albat', 'albó',\n",
       "       'all', 'allassa', 'allau', 'alosa', 'alot', 'alou', 'alto',\n",
       "       'aluata', 'aló', 'assalt', 'atall', 'atol', 'aula', 'aulos',\n",
       "       'autoblast', 'aüllat', 'babol', 'babols', 'bala', 'balast',\n",
       "       'balata', 'balau', 'balboa', 'ball', 'balla', 'balot', 'balou',\n",
       "       'balsa', 'baló', 'basalt', 'bassal', 'bassol', 'batall', 'batalla',\n",
       "       'batallola', 'batalló', 'batolla', 'baula', 'baül', 'blast',\n",
       "       'blasó', 'blat', 'blau', 'blob', 'blàstula', 'bol', 'bola', 'boll',\n",
       "       'bolla', 'bollat', 'bolló', 'bolo', 'bolsal', 'boló', 'botall',\n",
       "       'botaló', 'boual', 'bulb', 'bull', 'busal', 'butla', 'butlla',\n",
       "       'bàbol', 'búbal', 'lata', 'llast', 'llata', 'llau', 'llautó',\n",
       "       'llaüt', 'lloa', 'lloba', 'llobat', 'llobató', 'llosa', 'llosat',\n",
       "       'llossa', 'llot', 'loboa', 'lobus', 'lot', 'loto', 'lotus',\n",
       "       'lòbul', 'löss', 'olla', 'ollal', 'ooblast', 'saballó', 'sal',\n",
       "       'sala', 'salat', 'salaó', 'salol', 'salsa', 'salsalat', 'salt',\n",
       "       'saltall', 'saltaülls', 'saló', 'sauló', 'sol', 'sola', 'solo',\n",
       "       'solta', 'solut', 'solà', 'sotal', 'sotalol', 'soul', 'subsol',\n",
       "       'subsòl', 'subtotal', 'sulla', 'sultà', 'sàssola', 'sòl', 'sòtol',\n",
       "       'tabal', 'tabala', 'tabalot', 'tabola', 'tabustol', 'tabustoll',\n",
       "       'tala', 'talala', 'talbot', 'talbutal', 'tall', 'talla', 'tallat',\n",
       "       'talló', 'talossa', 'taló', 'tassall', 'taula', 'taulat', 'tauló',\n",
       "       'taülalla', 'tola', 'toll', 'tolla', 'tolos', 'tolta', 'toluat',\n",
       "       'toluol', 'tolus', 'tossal', 'tossol', 'tossoló', 'total', 'tul',\n",
       "       'tulasa', 'túbul', 'ull', 'ullal', 'ullol', 'ullot', 'ulà', 'òbol'],\n",
       "      dtype='<U9')"
      ]
     },
     "execution_count": 63,
     "metadata": {},
     "output_type": "execute_result"
    }
   ],
   "source": [
    "np.array(words_out_2)"
   ]
  },
  {
   "cell_type": "code",
   "execution_count": 38,
   "metadata": {},
   "outputs": [
    {
     "name": "stdout",
     "output_type": "stream",
     "text": [
      "['lot', 'ull', 'ula', 'bol', 'sal', 'sol', 'all', 'ala', 'alo', 'tul', 'llau', 'lloa', 'llot', 'lata', 'loss', 'lot', 'loto', 'ull', 'ula', 'blau', 'blat', 'blob', 'bull', 'bulb', 'ball', 'bala', 'balo', 'baul', 'bol', 'boll', 'bola', 'bolo', 'sal', 'sala', 'salt', 'salo', 'sol', 'sola', 'solo', 'soul', 'all', 'alba', 'albo', 'ala', 'alto', 'alo', 'alou', 'alot', 'aula', 'atol', 'tul', 'tall', 'tala', 'talo', 'toll', 'tola', 'olla', 'obol']\n"
     ]
    }
   ],
   "source": [
    "print(prova)"
   ]
  },
  {
   "cell_type": "code",
   "execution_count": 23,
   "metadata": {},
   "outputs": [
    {
     "name": "stdout",
     "output_type": "stream",
     "text": [
      "Target number found: 1234\n"
     ]
    },
    {
     "data": {
      "text/plain": [
       "True"
      ]
     },
     "execution_count": 23,
     "metadata": {},
     "output_type": "execute_result"
    }
   ],
   "source": [
    "def guess_number(target, guess=\"\"):\n",
    "    if guess == target:\n",
    "        print(\"Target number found:\", guess)\n",
    "        return True\n",
    "    elif len(guess) >= len(target):\n",
    "        return False\n",
    "\n",
    "    for digit in range(10):\n",
    "        new_guess = guess + str(digit)\n",
    "        if guess_number(target, new_guess):\n",
    "            return True\n",
    "\n",
    "    return False\n",
    "\n",
    "# Example usage:\n",
    "target_number = \"1234\"\n",
    "guess_number(target_number)"
   ]
  }
 ],
 "metadata": {
  "kernelspec": {
   "display_name": "base",
   "language": "python",
   "name": "python3"
  },
  "language_info": {
   "codemirror_mode": {
    "name": "ipython",
    "version": 3
   },
   "file_extension": ".py",
   "mimetype": "text/x-python",
   "name": "python",
   "nbconvert_exporter": "python",
   "pygments_lexer": "ipython3",
   "version": "3.10.9"
  }
 },
 "nbformat": 4,
 "nbformat_minor": 2
}
