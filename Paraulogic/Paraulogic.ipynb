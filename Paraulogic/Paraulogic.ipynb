{
 "cells": [
  {
   "cell_type": "code",
   "execution_count": 1,
   "metadata": {},
   "outputs": [],
   "source": [
    "import numpy as np\n",
    "import pandas as pd"
   ]
  },
  {
   "cell_type": "code",
   "execution_count": 120,
   "metadata": {},
   "outputs": [],
   "source": [
    "def read_to_list(path):\n",
    "    out_list = []\n",
    "    with open(path, 'r') as file:\n",
    "        for line in file:\n",
    "            out_list.append(line.rstrip())\n",
    "    return out_list\n",
    "\n",
    "def read_to_df(path):\n",
    "    out_list = read_to_list(path)\n",
    "    out_df = pd.DataFrame (out_list, columns=['strings'])\n",
    "    return out_df\n",
    "\n",
    "def clean_df(df_original):\n",
    "    df = df_original.copy()\n",
    "    df = df[df['strings'].str[0] != '#']\n",
    "    df[['words','rest']] = df.strings.str.split('=',expand=True)\n",
    "    df[['category', 'sources']] = df.rest.str.split(';fonts: ',expand=True)\n",
    "    # df['category'] = df['category'].str.split('categories: ').apply(lambda x: x[1] if len(x) > 1 else None)\n",
    "    df['category'] = df['category'].str.split('categories: ').apply(lambda x: None if x is None else (x[1] if len(x) > 1 else None))\n",
    "    df.sources = df.sources.str[0:-1]\n",
    "    df.drop(['strings','rest'],axis=1, inplace=True)\n",
    "    return df"
   ]
  },
  {
   "cell_type": "code",
   "execution_count": 121,
   "metadata": {},
   "outputs": [],
   "source": [
    "path = './Data/noms-fdic.txt'\n",
    "noms_df = read_to_df(path)\n",
    "noms_df = clean_df(noms_df)\n",
    "\n",
    "path = './Data/adjectius-fdic.txt'\n",
    "adj_df = read_to_df(path)\n",
    "adj_df = clean_df(adj_df)"
   ]
  },
  {
   "cell_type": "code",
   "execution_count": 124,
   "metadata": {},
   "outputs": [
    {
     "data": {
      "text/html": [
       "<div>\n",
       "<style scoped>\n",
       "    .dataframe tbody tr th:only-of-type {\n",
       "        vertical-align: middle;\n",
       "    }\n",
       "\n",
       "    .dataframe tbody tr th {\n",
       "        vertical-align: top;\n",
       "    }\n",
       "\n",
       "    .dataframe thead th {\n",
       "        text-align: right;\n",
       "    }\n",
       "</style>\n",
       "<table border=\"1\" class=\"dataframe\">\n",
       "  <thead>\n",
       "    <tr style=\"text-align: right;\">\n",
       "      <th></th>\n",
       "      <th>words</th>\n",
       "      <th>category</th>\n",
       "      <th>sources</th>\n",
       "    </tr>\n",
       "  </thead>\n",
       "  <tbody>\n",
       "    <tr>\n",
       "      <th>191</th>\n",
       "      <td>17-A</td>\n",
       "      <td>MS</td>\n",
       "      <td>data</td>\n",
       "    </tr>\n",
       "    <tr>\n",
       "      <th>192</th>\n",
       "      <td>17A</td>\n",
       "      <td>MS</td>\n",
       "      <td>data</td>\n",
       "    </tr>\n",
       "    <tr>\n",
       "      <th>193</th>\n",
       "      <td>4x4</td>\n",
       "      <td>MI</td>\n",
       "      <td>esadir,termcat</td>\n",
       "    </tr>\n",
       "    <tr>\n",
       "      <th>194</th>\n",
       "      <td>A3</td>\n",
       "      <td>MI</td>\n",
       "      <td>simbol</td>\n",
       "    </tr>\n",
       "    <tr>\n",
       "      <th>195</th>\n",
       "      <td>A4</td>\n",
       "      <td>MI</td>\n",
       "      <td>simbol</td>\n",
       "    </tr>\n",
       "  </tbody>\n",
       "</table>\n",
       "</div>"
      ],
      "text/plain": [
       "    words category         sources\n",
       "191  17-A       MS            data\n",
       "192   17A       MS            data\n",
       "193   4x4       MI  esadir,termcat\n",
       "194    A3       MI          simbol\n",
       "195    A4       MI          simbol"
      ]
     },
     "execution_count": 124,
     "metadata": {},
     "output_type": "execute_result"
    }
   ],
   "source": [
    "noms_df.head()"
   ]
  }
 ],
 "metadata": {
  "kernelspec": {
   "display_name": "base",
   "language": "python",
   "name": "python3"
  },
  "language_info": {
   "codemirror_mode": {
    "name": "ipython",
    "version": 3
   },
   "file_extension": ".py",
   "mimetype": "text/x-python",
   "name": "python",
   "nbconvert_exporter": "python",
   "pygments_lexer": "ipython3",
   "version": "3.10.9"
  }
 },
 "nbformat": 4,
 "nbformat_minor": 2
}
